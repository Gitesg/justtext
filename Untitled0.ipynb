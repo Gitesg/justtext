{
  "nbformat": 4,
  "nbformat_minor": 0,
  "metadata": {
    "colab": {
      "provenance": [],
      "authorship_tag": "ABX9TyOk88IyWXDCrcHlXa90z5fX",
      "include_colab_link": true
    },
    "kernelspec": {
      "name": "python3",
      "display_name": "Python 3"
    },
    "language_info": {
      "name": "python"
    }
  },
  "cells": [
    {
      "cell_type": "markdown",
      "metadata": {
        "id": "view-in-github",
        "colab_type": "text"
      },
      "source": [
        "<a href=\"https://colab.research.google.com/github/Gitesg/justtext/blob/master/Untitled0.ipynb\" target=\"_parent\"><img src=\"https://colab.research.google.com/assets/colab-badge.svg\" alt=\"Open In Colab\"/></a>"
      ]
    },
    {
      "cell_type": "code",
      "execution_count": null,
      "metadata": {
        "colab": {
          "base_uri": "https://localhost:8080/",
          "height": 474
        },
        "id": "9BDDpAhooYxO",
        "outputId": "2494effb-326d-4238-c99f-03b2f8aa7819"
      },
      "outputs": [
        {
          "output_type": "stream",
          "name": "stderr",
          "text": [
            "[nltk_data] Downloading package vader_lexicon to /root/nltk_data...\n",
            "[nltk_data]   Package vader_lexicon is already up-to-date!\n",
            "[nltk_data] Downloading package punkt to /root/nltk_data...\n",
            "[nltk_data]   Package punkt is already up-to-date!\n",
            "[nltk_data] Downloading package averaged_perceptron_tagger to\n",
            "[nltk_data]     /root/nltk_data...\n",
            "[nltk_data]   Package averaged_perceptron_tagger is already up-to-\n",
            "[nltk_data]       date!\n"
          ]
        },
        {
          "output_type": "stream",
          "name": "stdout",
          "text": [
            "The text data is negative.\n"
          ]
        },
        {
          "output_type": "display_data",
          "data": {
            "text/plain": [
              "<Figure size 432x288 with 1 Axes>"
            ],
            "image/png": "[encoded data removed]"
          },
          "metadata": {}
        }
      ],
      "source": [
        "\n",
        "\n",
        "# your code goes here\n",
        "import nltk\n",
        "from nltk.sentiment import SentimentIntensityAnalyzer\n",
        "import matplotlib.pyplot as plt\n",
        "from matplotlib import style\n",
        "import nltk\n",
        "nltk.download('vader_lexicon')\n",
        "\n",
        "# Load the text data\n",
        "text_data = ''' it was good but shit also ther in movie so how can  '''\n",
        "\n",
        "analyzer = SentimentIntensityAnalyzer()\n",
        "\n",
        "# Analyze the sentiment of the text data\n",
        "scores = analyzer.polarity_scores(text_data)\n",
        "\n",
        "# Interpret the sentiment scores and print the result\n",
        "if scores['compound'] >= 0.05:\n",
        "    print(\"The text data is positive.\")\n",
        "elif scores['compound'] <= -0.05:\n",
        "    print(\"The text data is negative.\")\n",
        "else:\n",
        "    print(\"The text data is neutral.\")\n",
        "\n",
        "import nltk\n",
        "nltk.download('punkt')\n",
        "# Tokenize the text data\n",
        "tokens = nltk.word_tokenize(text_data)\n",
        "\n",
        "import nltk\n",
        "nltk.download('averaged_perceptron_tagger')\n",
        "# Perform part-of-speech tagging on the tokens\n",
        "pos_tags = nltk.pos_tag(tokens)\n",
        "\n",
        "# Count the frequency of each part-of-speech tag\n",
        "pos_freq = nltk.FreqDist(tag for (word, tag) in pos_tags)\n",
        "\n",
        "# Plot a bar chart of the part-of-speech tag frequencies\n",
        "style.use('ggplot')\n",
        "pos_freq.plot(title=\"Part-of-Speech Tag Frequencies\")\n",
        "plt.show()\n",
        "\n",
        "\n",
        "\n"
      ]
    }
  ]
}